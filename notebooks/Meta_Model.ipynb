{
  "nbformat": 4,
  "nbformat_minor": 0,
  "metadata": {
    "colab": {
      "provenance": []
    },
    "kernelspec": {
      "name": "python3",
      "display_name": "Python 3"
    },
    "language_info": {
      "name": "python"
    }
  },
  "cells": [
    {
      "cell_type": "code",
      "source": [
        "import pandas as pd\n",
        "from sklearn.model_selection import train_test_split\n",
        "from sklearn.preprocessing import MinMaxScaler\n",
        "\n",
        "# Load the dataset\n",
        "file_path = 'shuffled_meta_dataset.csv'  # Replace with your file path if needed\n",
        "data = pd.read_csv(file_path)\n",
        "\n",
        "# Define features and target\n",
        "features = [\"P_Autism_face\", \"P_Autism_mri\", \"P_ASQ\"]  # Feature columns\n",
        "target = \"Marker\"  # Target column\n",
        "\n",
        "# Split into features (X) and target (y)\n",
        "X = data[features]\n",
        "y = data[target]\n",
        "\n",
        "# Split the dataset into training (80%), validation (10%), and test (10%) sets\n",
        "X_train, X_temp, y_train, y_temp = train_test_split(X, y, test_size=0.2, random_state=42, stratify=y)\n",
        "X_val, X_test, y_val, y_test = train_test_split(X_temp, y_temp, test_size=0.5, random_state=42, stratify=y_temp)\n",
        "\n",
        "# Normalize the feature columns using MinMaxScaler\n",
        "scaler = MinMaxScaler()\n",
        "X_train_scaled = scaler.fit_transform(X_train)\n",
        "X_val_scaled = scaler.transform(X_val)\n",
        "X_test_scaled = scaler.transform(X_test)\n",
        "\n",
        "# Check dataset shapes\n",
        "print(\"Training Set Shape:\", X_train_scaled.shape)\n",
        "print(\"Validation Set Shape:\", X_val_scaled.shape)\n",
        "print(\"Test Set Shape:\", X_test_scaled.shape)\n"
      ],
      "metadata": {
        "colab": {
          "base_uri": "https://localhost:8080/"
        },
        "id": "83s6nPX7DqMr",
        "outputId": "e2e7b40c-f9d5-49ed-deaa-6aeb028ea07e"
      },
      "execution_count": null,
      "outputs": [
        {
          "output_type": "stream",
          "name": "stdout",
          "text": [
            "Training Set Shape: (160000, 3)\n",
            "Validation Set Shape: (20000, 3)\n",
            "Test Set Shape: (20000, 3)\n"
          ]
        }
      ]
    },
    {
      "cell_type": "code",
      "source": [
        "from sklearn.ensemble import RandomForestClassifier\n",
        "from sklearn.metrics import accuracy_score, precision_score, recall_score, f1_score, roc_auc_score\n",
        "\n",
        "# Initialize the Random Forest Classifier\n",
        "rf_model = RandomForestClassifier(random_state=42, n_estimators=100, max_depth=None)\n",
        "\n",
        "# Train the Random Forest model on the training set\n",
        "rf_model.fit(X_train_scaled, y_train)\n",
        "\n",
        "# Predict on the validation set\n",
        "y_val_pred = rf_model.predict(X_val_scaled)\n",
        "y_val_proba = rf_model.predict_proba(X_val_scaled)[:, 1]\n",
        "\n",
        "# Evaluate the model on the validation set\n",
        "val_accuracy = accuracy_score(y_val, y_val_pred)\n",
        "val_precision = precision_score(y_val, y_val_pred)\n",
        "val_recall = recall_score(y_val, y_val_pred)\n",
        "val_f1 = f1_score(y_val, y_val_pred)\n",
        "val_roc_auc = roc_auc_score(y_val, y_val_proba)\n",
        "\n",
        "# Print validation metrics\n",
        "print(\"Validation Metrics (Random Forest):\")\n",
        "print(f\"Accuracy: {val_accuracy:.4f}\")\n",
        "print(f\"Precision: {val_precision:.4f}\")\n",
        "print(f\"Recall: {val_recall:.4f}\")\n",
        "print(f\"F1-Score: {val_f1:.4f}\")\n",
        "print(f\"ROC-AUC: {val_roc_auc:.4f}\")\n",
        "\n",
        "# Predict on the test set\n",
        "y_test_pred = rf_model.predict(X_test_scaled)\n",
        "y_test_proba = rf_model.predict_proba(X_test_scaled)[:, 1]\n",
        "\n",
        "# Evaluate the model on the test set\n",
        "test_accuracy = accuracy_score(y_test, y_test_pred)\n",
        "test_precision = precision_score(y_test, y_test_pred)\n",
        "test_recall = recall_score(y_test, y_test_pred)\n",
        "test_f1 = f1_score(y_test, y_test_pred)\n",
        "test_roc_auc = roc_auc_score(y_test, y_test_proba)\n",
        "\n",
        "# Print test metrics\n",
        "print(\"\\nTest Metrics (Random Forest):\")\n",
        "print(f\"Accuracy: {test_accuracy:.4f}\")\n",
        "print(f\"Precision: {test_precision:.4f}\")\n",
        "print(f\"Recall: {test_recall:.4f}\")\n",
        "print(f\"F1-Score: {test_f1:.4f}\")\n",
        "print(f\"ROC-AUC: {test_roc_auc:.4f}\")\n"
      ],
      "metadata": {
        "colab": {
          "base_uri": "https://localhost:8080/"
        },
        "id": "tDKqFISX2_0K",
        "outputId": "974f5d69-f3f1-4432-acec-2da5643911fc"
      },
      "execution_count": null,
      "outputs": [
        {
          "output_type": "stream",
          "name": "stdout",
          "text": [
            "Validation Metrics (Random Forest):\n",
            "Accuracy: 1.0000\n",
            "Precision: 1.0000\n",
            "Recall: 1.0000\n",
            "F1-Score: 1.0000\n",
            "ROC-AUC: 1.0000\n",
            "\n",
            "Test Metrics (Random Forest):\n",
            "Accuracy: 1.0000\n",
            "Precision: 1.0000\n",
            "Recall: 1.0000\n",
            "F1-Score: 1.0000\n",
            "ROC-AUC: 1.0000\n"
          ]
        }
      ]
    },
    {
      "cell_type": "code",
      "source": [
        "import matplotlib.pyplot as plt\n",
        "import pandas as pd\n",
        "\n",
        "# Get feature importance from the Random Forest model\n",
        "rf_feature_importance = rf_model.feature_importances_\n",
        "\n",
        "# Create a DataFrame for better visualization\n",
        "rf_importance_df = pd.DataFrame({\n",
        "    'Feature': features,\n",
        "    'Importance': rf_feature_importance\n",
        "}).sort_values(by='Importance', ascending=False)\n",
        "\n",
        "# Print the feature importance table\n",
        "print(\"Feature Importance (Random Forest):\")\n",
        "print(rf_importance_df)\n",
        "\n",
        "# Plot feature importance\n",
        "plt.figure(figsize=(8, 6))\n",
        "plt.barh(rf_importance_df['Feature'], rf_importance_df['Importance'], color='lightgreen')\n",
        "plt.xlabel('Importance Score')\n",
        "plt.ylabel('Features')\n",
        "plt.title('Feature Importance (Random Forest)')\n",
        "plt.gca().invert_yaxis()  # Invert y-axis for descending order\n",
        "plt.show()\n"
      ],
      "metadata": {
        "colab": {
          "base_uri": "https://localhost:8080/",
          "height": 651
        },
        "id": "f4SaIDKJ33bU",
        "outputId": "032190e3-3046-4416-e074-991bb2e6b624"
      },
      "execution_count": null,
      "outputs": [
        {
          "output_type": "stream",
          "name": "stdout",
          "text": [
            "Feature Importance (Random Forest):\n",
            "         Feature  Importance\n",
            "0  P_Autism_face        0.36\n",
            "1   P_Autism_mri        0.36\n",
            "2          P_ASQ        0.28\n"
          ]
        },
        {
          "output_type": "display_data",
          "data": {
            "text/plain": [
              "<Figure size 800x600 with 1 Axes>"
            ],
            "image/png": "[encoded data removed]"
          },
          "metadata": {}
        }
      ]
    },
    {
      "cell_type": "code",
      "source": [
        "import pickle\n",
        "\n",
        "# Save the trained Random Forest model\n",
        "model_filename = 'MetaModel.pkl'\n",
        "with open(model_filename, 'wb') as file:\n",
        "    pickle.dump(rf_model, file)\n",
        "print(f\"Model saved as {model_filename}\")\n",
        "\n",
        "# To load the model later\n",
        "# with open(model_filename, 'rb') as file:\n",
        "#     loaded_model = pickle.load(file)\n"
      ],
      "metadata": {
        "id": "8wt_UEK54DPn",
        "colab": {
          "base_uri": "https://localhost:8080/"
        },
        "outputId": "1f9a6df7-8abf-418f-f11e-2392d8c6d242"
      },
      "execution_count": null,
      "outputs": [
        {
          "output_type": "stream",
          "name": "stdout",
          "text": [
            "Model saved as MetaModel.pkl\n"
          ]
        }
      ]
    },
    {
      "cell_type": "code",
      "source": [
        "import joblib\n",
        "\n",
        "# Load the model from a .pkl file\n",
        "model = joblib.load(\"MetaModel.pkl\")\n",
        "\n"
      ],
      "metadata": {
        "id": "cJJ4RBtW-3Ld"
      },
      "execution_count": null,
      "outputs": []
    },
    {
      "cell_type": "code",
      "source": [
        "import pandas as pd\n",
        "\n",
        "# Define manual inputs as a DataFrame with proper column names\n",
        "manual_inputs = pd.DataFrame([\n",
        "    [14.90,24.82,0.28],  # Example 1: Face, MRI, ASQ predictions\n",
        "    [90.25, 80.15, 100.00],  # Example 2: Another set of predictions\n",
        "], columns=['P_Autism_face', 'P_Autism_mri', 'P_ASQ'])  # Use the same feature names as in your dataset\n",
        "\n",
        "# Apply the same scaler used during training\n",
        "manual_inputs_scaled = scaler.transform(manual_inputs)\n",
        "\n",
        "# Predict using the loaded model\n",
        "predictions = model.predict(manual_inputs_scaled)\n",
        "probabilities = model.predict_proba(manual_inputs_scaled)\n",
        "\n",
        "# Display predictions and probabilities\n",
        "for i, (pred, prob) in enumerate(zip(predictions, probabilities)):\n",
        "    print(f\"Input {i+1}:\")\n",
        "    print(f\"  Predicted Class: {pred}\")\n",
        "    print(f\"  Class Probabilities: {prob}\")\n"
      ],
      "metadata": {
        "colab": {
          "base_uri": "https://localhost:8080/"
        },
        "id": "a0hf-3zfac5J",
        "outputId": "19323717-9a7b-4645-c5e1-2163cb90d514"
      },
      "execution_count": null,
      "outputs": [
        {
          "output_type": "stream",
          "name": "stdout",
          "text": [
            "Input 1:\n",
            "  Predicted Class: 0\n",
            "  Class Probabilities: [1. 0.]\n",
            "Input 2:\n",
            "  Predicted Class: 1\n",
            "  Class Probabilities: [0. 1.]\n"
          ]
        }
      ]
    },
    {
      "cell_type": "code",
      "source": [
        "from sklearn.linear_model import LogisticRegression\n",
        "from sklearn.metrics import classification_report, accuracy_score\n",
        "\n",
        "# Initialize and train the Logistic Regression model\n",
        "logistic_model = LogisticRegression(random_state=42, max_iter=100)\n",
        "logistic_model.fit(X_train_scaled, y_train)\n",
        "\n",
        "# Predict on the test set\n",
        "logistic_predictions = logistic_model.predict(X_test_scaled)\n",
        "logistic_probabilities = logistic_model.predict_proba(X_test_scaled)\n",
        "\n",
        "# Evaluate the model\n",
        "print(\"Logistic Regression Metrics:\")\n",
        "print(classification_report(y_test, logistic_predictions))\n",
        "print(\"Accuracy:\", accuracy_score(y_test, logistic_predictions))\n"
      ],
      "metadata": {
        "colab": {
          "base_uri": "https://localhost:8080/"
        },
        "id": "xL6IwgoNkOlr",
        "outputId": "845ffc60-f4fa-4d61-9d3c-16caa87374ee"
      },
      "execution_count": null,
      "outputs": [
        {
          "output_type": "stream",
          "name": "stdout",
          "text": [
            "Logistic Regression Metrics:\n",
            "              precision    recall  f1-score   support\n",
            "\n",
            "           0       1.00      1.00      1.00     10000\n",
            "           1       1.00      1.00      1.00     10000\n",
            "\n",
            "    accuracy                           1.00     20000\n",
            "   macro avg       1.00      1.00      1.00     20000\n",
            "weighted avg       1.00      1.00      1.00     20000\n",
            "\n",
            "Accuracy: 1.0\n"
          ]
        }
      ]
    },
    {
      "cell_type": "code",
      "source": [
        "import pandas as pd\n",
        "import numpy as np\n",
        "from sklearn.linear_model import LogisticRegression\n",
        "from sklearn.preprocessing import MinMaxScaler\n",
        "\n",
        "# Ensure the model is trained\n",
        "logistic_model = LogisticRegression(random_state=42, max_iter=1000)\n",
        "logistic_model.fit(X_train_scaled, y_train)\n",
        "\n",
        "# Define manual inputs as a DataFrame with proper column names\n",
        "manual_inputs = pd.DataFrame([\n",
        "    [35.82, 6.80, 9.41],  # Example 1: Face, MRI, ASQ predictions\n",
        "    [90.25, 80.15, 100.00],  # Example 2: Another set of predictions\n",
        "], columns=['P_Autism_face', 'P_Autism_mri', 'P_ASQ'])  # Use your feature names\n",
        "\n",
        "# Apply the same scaler used during training\n",
        "manual_inputs_scaled = scaler.transform(manual_inputs)\n",
        "\n",
        "# Predict using the trained Logistic Regression model\n",
        "predictions = logistic_model.predict(manual_inputs_scaled)\n",
        "probabilities = logistic_model.predict_proba(manual_inputs_scaled)\n",
        "\n",
        "# Display predictions and probabilities\n",
        "for i, (pred, prob) in enumerate(zip(predictions, probabilities)):\n",
        "    print(f\"Input {i+1}:\")\n",
        "    print(f\"  Predicted Class: {pred}\")\n",
        "    print(f\"  Class Probabilities: {prob}\")\n"
      ],
      "metadata": {
        "colab": {
          "base_uri": "https://localhost:8080/"
        },
        "id": "4gfA36ndnalw",
        "outputId": "25c37ba1-c0e0-481b-80c0-5b9a741fb563"
      },
      "execution_count": null,
      "outputs": [
        {
          "output_type": "stream",
          "name": "stdout",
          "text": [
            "Input 1:\n",
            "  Predicted Class: 0\n",
            "  Class Probabilities: [9.99336622e-01 6.63378112e-04]\n",
            "Input 2:\n",
            "  Predicted Class: 1\n",
            "  Class Probabilities: [7.68547876e-05 9.99923145e-01]\n"
          ]
        }
      ]
    },
    {
      "cell_type": "code",
      "source": [],
      "metadata": {
        "id": "bNkNXrTnpW3z"
      },
      "execution_count": null,
      "outputs": []
    }
  ]
}