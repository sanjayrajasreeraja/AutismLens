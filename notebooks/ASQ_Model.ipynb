{
  "nbformat": 4,
  "nbformat_minor": 0,
  "metadata": {
    "colab": {
      "provenance": []
    },
    "kernelspec": {
      "name": "python3",
      "display_name": "Python 3"
    },
    "language_info": {
      "name": "python"
    }
  },
  "cells": [
    {
      "cell_type": "code",
      "source": [
        "# Load the dataset\n",
        "import pandas as pd\n",
        "\n",
        "# Replace with the actual file path to your dataset\n",
        "df = pd.read_csv(\"Toddler Autism dataset July 2018.csv\")\n",
        "\n",
        "# Check the distribution of the target variable\n",
        "class_distribution = df[\"Class/ASD Traits \"].value_counts()\n",
        "\n",
        "# Print the counts\n",
        "print(\"Distribution of Samples in the Dataset:\")\n",
        "print(f\"Autism (Yes): {class_distribution.get('Yes', 0)}\")\n",
        "print(f\"No Autism (No): {class_distribution.get('No', 0)}\")\n"
      ],
      "metadata": {
        "colab": {
          "base_uri": "https://localhost:8080/"
        },
        "id": "9lYtFuQqYsZJ",
        "outputId": "3f9fc569-100e-4651-d03c-def3978a7081"
      },
      "execution_count": null,
      "outputs": [
        {
          "output_type": "stream",
          "name": "stdout",
          "text": [
            "Distribution of Samples in the Dataset:\n",
            "Autism (Yes): 728\n",
            "No Autism (No): 326\n"
          ]
        }
      ]
    },
    {
      "cell_type": "code",
      "source": [
        "from imblearn.over_sampling import SMOTE\n",
        "from sklearn.utils import resample\n",
        "import pandas as pd\n",
        "\n",
        "#columns_to_drop = [\"Case_No\", \"Ethnicity\", \"Jaundice\", \"Family_mem_with_ASD\", \"Qchat-10-Score\", \"Who completed the test\"]\n",
        "#df = df.drop(columns=columns_to_drop)\n",
        "\n",
        "# Convert 'Sex' column to numeric\n",
        "df[\"Sex\"] = df[\"Sex\"].map({\"m\": 1, \"f\": 0})\n",
        "\n",
        "# Separate features and target\n",
        "X = df.drop(columns=[\"Class/ASD Traits \"])  # Features\n",
        "y = df[\"Class/ASD Traits \"].map({\"Yes\": 1, \"No\": 0})  # Target (binary)\n",
        "\n",
        "# Step 1: Oversample the minority class using SMOTE\n",
        "smote = SMOTE(sampling_strategy=500/728, random_state=42)  # Generate minority samples to reach 500\n",
        "X_resampled, y_resampled = smote.fit_resample(X, y)\n",
        "\n",
        "# Step 2: Convert resampled data back to DataFrame\n",
        "df_resampled = pd.concat(\n",
        "    [pd.DataFrame(X_resampled, columns=X.columns), pd.Series(y_resampled, name=\"Class/ASD Traits \")],\n",
        "    axis=1,\n",
        ")\n",
        "df_resampled[\"Class/ASD Traits \"] = df_resampled[\"Class/ASD Traits \"].map({1: \"Yes\", 0: \"No\"})\n",
        "\n",
        "# Step 3: Undersample the majority class to 500 samples\n",
        "df_majority = df_resampled[df_resampled[\"Class/ASD Traits \"] == \"Yes\"]\n",
        "df_minority = df_resampled[df_resampled[\"Class/ASD Traits \"] == \"No\"]\n",
        "\n",
        "df_majority_downsampled = resample(\n",
        "    df_majority, replace=False, n_samples=500, random_state=42\n",
        ")\n",
        "\n",
        "# Step 4: Combine balanced data and shuffle\n",
        "df_balanced = pd.concat([df_majority_downsampled, df_minority]).sample(frac=1, random_state=42)\n",
        "\n",
        "# Verify the class distribution\n",
        "print(\"Balanced Dataset Distribution:\")\n",
        "print(df_balanced[\"Class/ASD Traits \"].value_counts())\n",
        "\n",
        "# Save the balanced dataset\n",
        "df_balanced.to_csv(\"balanced_autism_dataset.csv\", index=False)\n",
        "print(\"\\nBalanced dataset saved as 'balanced_autism_dataset.csv'\")"
      ],
      "metadata": {
        "colab": {
          "base_uri": "https://localhost:8080/"
        },
        "id": "w0wgXFhIgxMj",
        "outputId": "ed637e27-2193-4422-b8b1-f1159edd5b54"
      },
      "execution_count": null,
      "outputs": [
        {
          "output_type": "stream",
          "name": "stdout",
          "text": [
            "Balanced Dataset Distribution:\n",
            "Class/ASD Traits \n",
            "No     500\n",
            "Yes    500\n",
            "Name: count, dtype: int64\n",
            "\n",
            "Balanced dataset saved as 'balanced_autism_dataset.csv'\n"
          ]
        }
      ]
    },
    {
      "cell_type": "code",
      "execution_count": null,
      "metadata": {
        "colab": {
          "base_uri": "https://localhost:8080/",
          "height": 923
        },
        "id": "0E5ekiFUTBDu",
        "outputId": "5c6b41fe-2852-47ea-fb48-cbb261530484"
      },
      "outputs": [
        {
          "output_type": "stream",
          "name": "stdout",
          "text": [
            "Accuracy: 0.99\n",
            "\n",
            "Classification Report:\n",
            "              precision    recall  f1-score   support\n",
            "\n",
            "           0       0.99      1.00      1.00       100\n",
            "           1       1.00      0.99      0.99       100\n",
            "\n",
            "    accuracy                           0.99       200\n",
            "   macro avg       1.00      0.99      0.99       200\n",
            "weighted avg       1.00      0.99      0.99       200\n",
            "\n"
          ]
        },
        {
          "output_type": "display_data",
          "data": {
            "text/plain": [
              "<Figure size 640x480 with 1 Axes>"
            ],
            "image/png": "[encoded data removed]"
          },
          "metadata": {}
        },
        {
          "output_type": "stream",
          "name": "stdout",
          "text": [
            "\n",
            "Feature Importance (Logistic Regression):\n",
            "A2: 2.8358\n",
            "A9: 2.7129\n",
            "A4: 2.5222\n",
            "A8: 2.4021\n",
            "A7: 2.3924\n",
            "A5: 2.3863\n",
            "A6: 2.3457\n",
            "A10: 2.0671\n",
            "A1: 2.0192\n",
            "A3: 1.9457\n",
            "Sex: 0.2458\n",
            "Age_Mons: 0.0184\n"
          ]
        }
      ],
      "source": [
        "# Import libraries\n",
        "import pandas as pd\n",
        "import numpy as np\n",
        "from sklearn.model_selection import train_test_split\n",
        "from sklearn.linear_model import LogisticRegression\n",
        "from sklearn.metrics import accuracy_score, classification_report, roc_auc_score, roc_curve\n",
        "import matplotlib.pyplot as plt\n",
        "\n",
        "# Load the dataset\n",
        "df = pd.read_csv(\"balanced_autism_dataset.csv\")\n",
        "\n",
        "# Split features and target\n",
        "X = df.drop(columns=[\"Class/ASD Traits \"])  # Drop Class and Score columns\n",
        "y = df[\"Class/ASD Traits \"].map({\"Yes\": 1, \"No\": 0})  # Map target to binary\n",
        "\n",
        "# Split dataset into train and test sets\n",
        "X_train, X_test, y_train, y_test = train_test_split(X, y, test_size=0.2, random_state=42, stratify=y)\n",
        "\n",
        "# Train Logistic Regression\n",
        "model_lr = LogisticRegression(max_iter=1000, random_state=42)\n",
        "model_lr.fit(X_train, y_train)\n",
        "\n",
        "# Predict and evaluate\n",
        "y_pred = model_lr.predict(X_test)\n",
        "y_proba = model_lr.predict_proba(X_test)[:, 1]  # For AUC-ROC\n",
        "\n",
        "# Evaluation metrics\n",
        "accuracy = accuracy_score(y_test, y_pred)\n",
        "print(f\"Accuracy: {accuracy:.2f}\")\n",
        "print(\"\\nClassification Report:\")\n",
        "print(classification_report(y_test, y_pred))\n",
        "\n",
        "# AUC-ROC Curve\n",
        "roc_auc = roc_auc_score(y_test, y_proba)\n",
        "fpr, tpr, _ = roc_curve(y_test, y_proba)\n",
        "\n",
        "plt.figure()\n",
        "plt.plot(fpr, tpr, label=f\"Logistic Regression (AUC = {roc_auc:.2f})\")\n",
        "plt.plot([0, 1], [0, 1], \"k--\")\n",
        "plt.xlabel(\"False Positive Rate\")\n",
        "plt.ylabel(\"True Positive Rate\")\n",
        "plt.title(\"ROC Curve\")\n",
        "plt.legend()\n",
        "plt.show()\n",
        "\n",
        "# Coefficients and feature importance\n",
        "coef_dict = {feature: coef for feature, coef in zip(X.columns, model_lr.coef_[0])}\n",
        "sorted_coef = sorted(coef_dict.items(), key=lambda x: abs(x[1]), reverse=True)\n",
        "\n",
        "print(\"\\nFeature Importance (Logistic Regression):\")\n",
        "for feature, coef in sorted_coef:\n",
        "    print(f\"{feature}: {coef:.4f}\")\n"
      ]
    },
    {
      "cell_type": "code",
      "source": [
        "import joblib\n",
        "joblib.dump(model_lr, \"ASQmodel.pkl\")"
      ],
      "metadata": {
        "colab": {
          "base_uri": "https://localhost:8080/"
        },
        "id": "D-kqE3WqWlR2",
        "outputId": "ef9a320c-62fa-4a9f-f18c-46befb270352"
      },
      "execution_count": null,
      "outputs": [
        {
          "output_type": "execute_result",
          "data": {
            "text/plain": [
              "['ASQmodel.pkl']"
            ]
          },
          "metadata": {},
          "execution_count": 31
        }
      ]
    },
    {
      "cell_type": "code",
      "source": [
        "# Import Random Forest\n",
        "from sklearn.ensemble import RandomForestClassifier\n",
        "from sklearn.metrics import accuracy_score, classification_report, roc_auc_score, roc_curve\n",
        "import matplotlib.pyplot as plt\n",
        "\n",
        "# Train Random Forest\n",
        "model_rf = RandomForestClassifier(n_estimators=100, random_state=42)\n",
        "model_rf.fit(X_train, y_train)\n",
        "\n",
        "# Predict and evaluate\n",
        "y_pred_rf = model_rf.predict(X_test)\n",
        "y_proba_rf = model_rf.predict_proba(X_test)[:, 1]  # For AUC-ROC\n",
        "\n",
        "# Evaluation metrics\n",
        "accuracy_rf = accuracy_score(y_test, y_pred_rf)\n",
        "print(f\"Accuracy (Random Forest): {accuracy_rf:.2f}\")\n",
        "print(\"\\nClassification Report (Random Forest):\")\n",
        "print(classification_report(y_test, y_pred_rf))\n",
        "\n",
        "# AUC-ROC Curve\n",
        "roc_auc_rf = roc_auc_score(y_test, y_proba_rf)\n",
        "fpr_rf, tpr_rf, _ = roc_curve(y_test, y_proba_rf)\n",
        "\n",
        "plt.figure()\n",
        "plt.plot(fpr_rf, tpr_rf, label=f\"Random Forest (AUC = {roc_auc_rf:.2f})\")\n",
        "plt.plot([0, 1], [0, 1], \"k--\")\n",
        "plt.xlabel(\"False Positive Rate\")\n",
        "plt.ylabel(\"True Positive Rate\")\n",
        "plt.title(\"ROC Curve - Random Forest\")\n",
        "plt.legend()\n",
        "plt.show()\n",
        "\n",
        "# Feature Importance\n",
        "feature_importances_rf = pd.Series(model_rf.feature_importances_, index=X.columns).sort_values(ascending=False)\n",
        "print(\"\\nFeature Importances (Random Forest):\")\n",
        "print(feature_importances_rf)\n"
      ],
      "metadata": {
        "colab": {
          "base_uri": "https://localhost:8080/",
          "height": 941
        },
        "id": "5QuIeZu-TsWB",
        "outputId": "b6d92941-a2a9-45f2-ca81-fb2136ef447b"
      },
      "execution_count": null,
      "outputs": [
        {
          "output_type": "stream",
          "name": "stdout",
          "text": [
            "Accuracy (Random Forest): 0.98\n",
            "\n",
            "Classification Report (Random Forest):\n",
            "              precision    recall  f1-score   support\n",
            "\n",
            "           0       0.97      0.99      0.98       100\n",
            "           1       0.99      0.97      0.98       100\n",
            "\n",
            "    accuracy                           0.98       200\n",
            "   macro avg       0.98      0.98      0.98       200\n",
            "weighted avg       0.98      0.98      0.98       200\n",
            "\n"
          ]
        },
        {
          "output_type": "display_data",
          "data": {
            "text/plain": [
              "<Figure size 640x480 with 1 Axes>"
            ],
            "image/png": "[encoded data removed]"
          },
          "metadata": {}
        },
        {
          "output_type": "stream",
          "name": "stdout",
          "text": [
            "\n",
            "Feature Importances (Random Forest):\n",
            "A9          0.178809\n",
            "A6          0.141572\n",
            "A5          0.131240\n",
            "A7          0.102365\n",
            "A2          0.098621\n",
            "A1          0.090841\n",
            "A4          0.083208\n",
            "A8          0.053158\n",
            "Age_Mons    0.046987\n",
            "A3          0.034068\n",
            "A10         0.027439\n",
            "Sex         0.011691\n",
            "dtype: float64\n"
          ]
        }
      ]
    },
    {
      "cell_type": "code",
      "source": [
        "def infer_asd_with_reasons(asq_model_path, input_features):\n",
        "    \"\"\"\n",
        "    Infer whether a child has ASD traits using the ASQ model and provide reasons for ASD.\n",
        "\n",
        "    Parameters:\n",
        "    - asq_model_path (str): Path to the saved logistic regression model (e.g., 'asq_model.pkl').\n",
        "    - input_features (dict): A dictionary of input features with keys corresponding to model features.\n",
        "\n",
        "    Returns:\n",
        "    - dict: Prediction results with 'ASD_Traits', 'Probability_Percentage', 'Explanation', and 'Reasons'.\n",
        "    \"\"\"\n",
        "    # Load the trained model\n",
        "    model = joblib.load(asq_model_path)\n",
        "\n",
        "    # Define reasons corresponding to each feature\n",
        "    reasons_dict = {\n",
        "        \"A1\": \"He/she does not look at someone when being called.\",\n",
        "        \"A2\": \"It is not easy to get eye contact with him/her.\",\n",
        "        \"A3\": \"He/she does not point to indicate wants.\",\n",
        "        \"A4\": \"He/she does not point to share interests.\",\n",
        "        \"A5\": \"He/she does not engage in pretend play.\",\n",
        "        \"A6\": \"He/she does not follow where others are looking.\",\n",
        "        \"A7\": \"He/she does not show signs of comforting upset family members.\",\n",
        "        \"A8\": \"His/her first word is not easily describable.\",\n",
        "        \"A9\": \"He/she does not use simple gestures like waving goodbye.\",\n",
        "        \"A10\": \"He/she does not stare at nothing with no apparent purpose.\",\n",
        "    }\n",
        "\n",
        "    # Convert input features to a DataFrame\n",
        "    input_data = pd.DataFrame([input_features])\n",
        "\n",
        "    # Predict using the model\n",
        "    prediction = model.predict(input_data)\n",
        "    prediction_proba = model.predict_proba(input_data)[:, 1]\n",
        "\n",
        "    # Prepare reasons for ASD traits\n",
        "    reasons = []\n",
        "    if prediction[0] == 1:  # Only include reasons if ASD is predicted\n",
        "        for feature, value in input_features.items():\n",
        "            if feature in reasons_dict and value == 1:  # Check if feature contributes to ASD\n",
        "                reasons.append(reasons_dict[feature])\n",
        "\n",
        "    # Prepare results\n",
        "    result = {\n",
        "        \"ASD_Traits\": \"Yes\" if prediction[0] == 1 else \"No\",\n",
        "        \"Probability_Percentage\": f\"{round(prediction_proba[0] * 100, 2)}%\",\n",
        "        \"Explanation\": \"The model predicts the child has ASD traits.\" if prediction[0] == 1\n",
        "                       else \"The model predicts the child does not have ASD traits.\",\n",
        "        \"Reasons\": reasons if reasons else \"No behavioral indicators suggest ASD traits.\",\n",
        "    }\n",
        "    return result\n",
        "\n",
        "\n",
        "# Example usage\n",
        "if __name__ == \"__main__\":\n",
        "    # Example input features (replace with actual input data)\n",
        "    input_features = {\n",
        "        \"A1\": 0, \"A2\": 0, \"A3\": 0, \"A4\": 1, \"A5\": 1,\n",
        "        \"A6\": 0, \"A7\": 0, \"A8\": 0, \"A9\": 1, \"A10\": 0,\n",
        "        \"Age_Mons\": 36,\n",
        "        \"Sex\": 1,  # 1 for male, 0 for female\n",
        "    }\n",
        "\n",
        "    # Path to the saved model\n",
        "    asq_model_path = \"ASQmodel.pkl\"\n",
        "\n",
        "    # Run inference\n",
        "    result = infer_asd_with_reasons(asq_model_path, input_features)\n",
        "    print(\"\\nPrediction Results:\")\n",
        "    print(f\"ASD Traits: {result['ASD_Traits']}\")\n",
        "    print(f\"Probability of ASD Traits: {result['Probability_Percentage']}\")\n",
        "    print(f\"Explanation: {result['Explanation']}\")\n",
        "    if result[\"ASD_Traits\"] == \"Yes\":\n",
        "        print(\"\\nReasons for ASD in child:\")\n",
        "        for reason in result[\"Reasons\"]:\n",
        "            print(f\"- {reason}\")\n",
        "    else:\n",
        "        print(f\"Reasons: {result['Reasons']}\")\n"
      ],
      "metadata": {
        "colab": {
          "base_uri": "https://localhost:8080/"
        },
        "id": "Y4kFRP9IVPWx",
        "outputId": "b3f20313-49bd-4843-a18d-81590123c1b0"
      },
      "execution_count": null,
      "outputs": [
        {
          "output_type": "stream",
          "name": "stdout",
          "text": [
            "\n",
            "Prediction Results:\n",
            "ASD Traits: No\n",
            "Probability of ASD Traits: 35.26%\n",
            "Explanation: The model predicts the child does not have ASD traits.\n",
            "Reasons: No behavioral indicators suggest ASD traits.\n"
          ]
        }
      ]
    },
    {
      "cell_type": "code",
      "source": [
        "import pandas as pd\n",
        "from sklearn.utils import resample\n",
        "\n",
        "# Load the balanced dataset\n",
        "df_balanced = pd.read_csv(\"balanced_autism_dataset.csv\")  # Load the balanced dataset\n",
        "\n",
        "# Separate classes in the balanced dataset\n",
        "df_yes = df_balanced[df_balanced[\"Class/ASD Traits \"] == \"Yes\"]\n",
        "df_no = df_balanced[df_balanced[\"Class/ASD Traits \"] == \"No\"]\n",
        "\n",
        "# Randomly sample 500 rows from each class (with replacement if needed)\n",
        "df_yes_sampled = resample(df_yes, replace=True, n_samples=500, random_state=42)\n",
        "df_no_sampled = resample(df_no, replace=True, n_samples=500, random_state=42)\n",
        "\n",
        "# Combine the sampled rows to form the meta-model test dataset\n",
        "df_meta_model_test = pd.concat([df_yes_sampled, df_no_sampled]).sample(frac=1, random_state=42)\n",
        "\n",
        "# Save the final 500-500 meta-model test dataset\n",
        "df_meta_model_test.to_csv(\"meta_model_test_dataset.csv\", index=False)\n",
        "print(\"Meta-model test dataset saved as 'meta_model_test_dataset.csv'.\")\n",
        "\n",
        "# Verify the distribution in the meta-model test dataset\n",
        "print(\"\\nClass Distribution in Meta-Model Test Dataset:\")\n",
        "print(df_meta_model_test[\"Class/ASD Traits \"].value_counts())\n"
      ],
      "metadata": {
        "id": "853vBY4ZXWj7",
        "colab": {
          "base_uri": "https://localhost:8080/"
        },
        "outputId": "96226015-505a-47ba-968e-f1246aa6c344"
      },
      "execution_count": null,
      "outputs": [
        {
          "output_type": "stream",
          "name": "stdout",
          "text": [
            "Meta-model test dataset saved as 'meta_model_test_dataset.csv'.\n",
            "\n",
            "Class Distribution in Meta-Model Test Dataset:\n",
            "Class/ASD Traits \n",
            "No     500\n",
            "Yes    500\n",
            "Name: count, dtype: int64\n"
          ]
        }
      ]
    },
    {
      "cell_type": "code",
      "source": [
        "import pandas as pd\n",
        "import joblib\n",
        "\n",
        "# Load the saved logistic regression model\n",
        "model_lr = joblib.load(\"ASQmodel.pkl\")\n",
        "\n",
        "# Load the test dataset\n",
        "df_test = pd.read_csv(\"/content/meta_model_test_dataset.csv\")\n",
        "\n",
        "# Prepare an empty list to store results\n",
        "results = []\n",
        "\n",
        "# Iterate through each row for inference\n",
        "for index, row in df_test.iterrows():\n",
        "    # Extract feature values with column names\n",
        "    features = row.drop(labels=[\"Class/ASD Traits \"]).to_frame().T  # Retain feature names by creating a DataFrame\n",
        "\n",
        "    # Run inference\n",
        "    autism_probability = model_lr.predict_proba(features)[0, 1]  # Probability of Autism (class 1)\n",
        "    autism_marker = model_lr.predict(features)[0]  # Predicted marker (0 or 1)\n",
        "\n",
        "    # Add the results to the list\n",
        "    results.append({\n",
        "        \"S_No\": index + 1,  # Serial number\n",
        "        \"Percentage_of_Autism\": round(autism_probability * 100, 2),  # Probability as a percentage\n",
        "        \"Marker\": autism_marker,  # Predicted class\n",
        "    })\n",
        "\n",
        "# Convert results to a DataFrame\n",
        "df_results_output = pd.DataFrame(results)\n",
        "\n",
        "# Save the results to a new CSV file\n",
        "df_results_output.to_csv(\"meta_data_ASQ_results.csv\", index=False)\n",
        "print(\"Inference results saved as 'meta_data_ASQ_results.csv'.\")\n"
      ],
      "metadata": {
        "id": "pcDSpoWq5P7A",
        "colab": {
          "base_uri": "https://localhost:8080/"
        },
        "outputId": "6a5c1957-de6a-4dd6-a3ac-1cac74b9b02e"
      },
      "execution_count": null,
      "outputs": [
        {
          "output_type": "stream",
          "name": "stdout",
          "text": [
            "Inference results saved as 'meta_data_ASQ_results.csv'.\n"
          ]
        }
      ]
    },
    {
      "cell_type": "code",
      "source": [],
      "metadata": {
        "id": "EqhA3wLtHHVo"
      },
      "execution_count": null,
      "outputs": []
    }
  ]
}